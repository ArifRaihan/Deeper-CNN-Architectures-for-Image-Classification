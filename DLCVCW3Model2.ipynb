{
  "nbformat": 4,
  "nbformat_minor": 0,
  "metadata": {
    "colab": {
      "name": "DLCVCW3Model2.ipynb",
      "provenance": [],
      "collapsed_sections": []
    },
    "kernelspec": {
      "name": "python3",
      "display_name": "Python 3"
    },
    "accelerator": "GPU"
  },
  "cells": [
    {
      "cell_type": "code",
      "metadata": {
        "id": "61aQEudUeen9",
        "colab_type": "code",
        "colab": {}
      },
      "source": [
        "import tensorflow as tf\n",
        "from tensorflow.keras.datasets import mnist,cifar10\n",
        "import pandas as pd\n",
        "import cv2\n",
        "import matplotlib.pyplot as plt\n",
        "import numpy as np\n",
        "import math\n",
        "from tensorflow.keras.layers import Dense, Conv2D, MaxPool2D, BatchNormalization, Dropout, Input, Concatenate, AveragePooling2D,Flatten, Reshape, Lambda\n",
        "from tensorflow.keras.models import Model\n",
        "from tensorflow.keras.preprocessing.image import ImageDataGenerator\n",
        "import tensorflow.keras.backend as K\n",
        "from tensorflow.keras import optimizers\n",
        "from skimage.transform import resize\n",
        "from tensorflow.keras.utils import to_categorical"
      ],
      "execution_count": 0,
      "outputs": []
    },
    {
      "cell_type": "code",
      "metadata": {
        "id": "cDvMBz2nxUa4",
        "colab_type": "code",
        "outputId": "b5e36ad3-804d-4509-b336-cb70a8dc419f",
        "colab": {
          "base_uri": "https://localhost:8080/",
          "height": 50
        }
      },
      "source": [
        "choose_dataset = 1\n",
        "choose_normalization = 2\n",
        "\n",
        "if choose_dataset == 1:\n",
        "  #Loading MNIST dataset\n",
        "  (train_data,train_labels),(test_data,test_labels) = mnist.load_data()\n",
        "  train_data = train_data.reshape((train_data.shape[0],28,28,1))\n",
        "  test_data = test_data.reshape((test_data.shape[0],28,28,1))\n",
        "else:\n",
        "  #Loading CIFAR10 dataset\n",
        "  (train_data,train_labels),(test_data,test_labels) = cifar10.load_data()\n",
        "\n",
        "if choose_normalization == 1:\n",
        "  #Scaling 1\n",
        "  #Normalize to range of 0-1 \n",
        "  train_data = train_data.astype('float32') /255.0\n",
        "  test_data = test_data.astype('float32') / 255.0\n",
        "\n",
        "else:\n",
        "  #Scaling 2 Colab crashes\n",
        "  #Standardization for zero mean and unit variance\n",
        "  mean = train_data.mean()\n",
        "  std_dev = train_data.std()\n",
        "\n",
        "  train_data = train_data.astype('float32')\n",
        "  test_data = test_data.astype('float32')\n",
        "  train_data = (train_data-mean)/std_dev\n",
        "  test_data = (test_data-mean)/std_dev\n",
        "\n",
        "#One hot encode the numerical labels\n",
        "train_labels = to_categorical(train_labels,num_classes=10)\n",
        "test_labels = to_categorical(test_labels,num_classes=10) "
      ],
      "execution_count": 2,
      "outputs": [
        {
          "output_type": "stream",
          "text": [
            "Downloading data from https://storage.googleapis.com/tensorflow/tf-keras-datasets/mnist.npz\n",
            "11493376/11490434 [==============================] - 0s 0us/step\n"
          ],
          "name": "stdout"
        }
      ]
    },
    {
      "cell_type": "code",
      "metadata": {
        "id": "gaxUpGmqr5BS",
        "colab_type": "code",
        "colab": {}
      },
      "source": [
        "#Divide training data into training and validation\n",
        "split = int(0.1*train_data.shape[0])\n",
        "X_train = train_data[split:]\n",
        "X_val = train_data[:split]\n",
        "Y_train = train_labels[split:]\n",
        "Y_val = train_labels[:split]"
      ],
      "execution_count": 0,
      "outputs": []
    },
    {
      "cell_type": "code",
      "metadata": {
        "id": "XXaNIP1042QP",
        "colab_type": "code",
        "colab": {}
      },
      "source": [
        "#MODEL 2\n",
        "#VGG11 Implementation\n",
        "\n",
        "input_layer = Input(shape=(train_data.shape[1],train_data.shape[2],train_data.shape[3]))\n",
        "\n",
        "#resize_layer = Lambda(lambda x: tf.image.resize(x,(224,224)))(input_layer)\n",
        "conv1_layer = Conv2D(filters=64,kernel_size=(3,3),strides=1,padding='same',activation='relu')(input_layer)\n",
        "maxpool1_layer = MaxPool2D(pool_size=(2,2),strides=2,padding='same')(conv1_layer)\n",
        "\n",
        "conv2_layer = Conv2D(filters=128,kernel_size=(3,3),strides=1,padding='same',activation='relu')(maxpool1_layer)\n",
        "maxpool2_layer = MaxPool2D(pool_size=(2,2),strides=2,padding='same')(conv2_layer)\n",
        "\n",
        "conv3_layer = Conv2D(filters=256,kernel_size=(3,3),strides=1,padding='same',activation='relu')(maxpool2_layer)\n",
        "conv3_layer = Conv2D(filters=256,kernel_size=(3,3),strides=1,padding='same',activation='relu')(conv3_layer)\n",
        "maxpool3_layer = MaxPool2D(pool_size=(2,2),strides=2,padding='same')(conv3_layer)\n",
        "\n",
        "conv4_layer = Conv2D(filters=512,kernel_size=(3,3),strides=1,padding='same',activation='relu')(maxpool3_layer)\n",
        "conv4_layer = Conv2D(filters=512,kernel_size=(3,3),strides=1,padding='same',activation='relu')(conv4_layer)\n",
        "maxpool4_layer = MaxPool2D(pool_size=(2,2),strides=2,padding='same')(conv4_layer)\n",
        "\n",
        "conv5_layer = Conv2D(filters=512,kernel_size=(3,3),strides=1,padding='same',activation='relu')(maxpool4_layer)\n",
        "conv5_layer = Conv2D(filters=512,kernel_size=(3,3),strides=1,padding='same',activation='relu')(conv5_layer)\n",
        "maxpool5_layer = MaxPool2D(pool_size=(2,2),strides=2,padding='same')(conv5_layer)\n",
        "\n",
        "FC_layer = Flatten()(maxpool5_layer)\n",
        "FC_layer = Dense(units=4096,activation='relu')(FC_layer)\n",
        "FC_layer = Dropout(rate=0.5)(FC_layer)\n",
        "FC_layer = Dense(units=4096,activation='relu')(FC_layer)\n",
        "FC_layer = Dropout(rate=0.5)(FC_layer)\n",
        "\n",
        "output_layer = Dense(units=10,activation='softmax')(FC_layer)\n",
        "\n",
        "model = Model(inputs=input_layer,outputs=output_layer)\n",
        "model.compile(optimizer=optimizers.SGD(learning_rate=0.01,momentum=0.9),\n",
        "              metrics=['accuracy'],\n",
        "              loss='categorical_crossentropy')\n",
        "model.summary()"
      ],
      "execution_count": 0,
      "outputs": []
    },
    {
      "cell_type": "code",
      "metadata": {
        "id": "3BQEFfPDFMdi",
        "colab_type": "code",
        "colab": {}
      },
      "source": [
        "training_history = []"
      ],
      "execution_count": 0,
      "outputs": []
    },
    {
      "cell_type": "code",
      "metadata": {
        "id": "OVS0_xR7dAFL",
        "colab_type": "code",
        "colab": {
          "base_uri": "https://localhost:8080/",
          "height": 353
        },
        "outputId": "504db320-2b39-490b-f247-284db90a4d34"
      },
      "source": [
        "batch_size = 256\n",
        "history = model.fit(x=X_train,\n",
        "                    y=Y_train,\n",
        "                    validation_data=(X_val,Y_val),\n",
        "                    epochs=10,\n",
        "                    batch_size=256\n",
        "                    )\n",
        "training_history.append(history)"
      ],
      "execution_count": 8,
      "outputs": [
        {
          "output_type": "stream",
          "text": [
            "Epoch 1/10\n",
            "211/211 [==============================] - 8s 36ms/step - loss: 0.0124 - accuracy: 0.9964 - val_loss: 0.0478 - val_accuracy: 0.9885\n",
            "Epoch 2/10\n",
            "211/211 [==============================] - 8s 36ms/step - loss: 0.0112 - accuracy: 0.9963 - val_loss: 0.0469 - val_accuracy: 0.9897\n",
            "Epoch 3/10\n",
            "211/211 [==============================] - 8s 36ms/step - loss: 0.0095 - accuracy: 0.9968 - val_loss: 0.0399 - val_accuracy: 0.9902\n",
            "Epoch 4/10\n",
            "211/211 [==============================] - 8s 36ms/step - loss: 0.0072 - accuracy: 0.9977 - val_loss: 0.0480 - val_accuracy: 0.9902\n",
            "Epoch 5/10\n",
            "211/211 [==============================] - 8s 36ms/step - loss: 0.0055 - accuracy: 0.9983 - val_loss: 0.0472 - val_accuracy: 0.9897\n",
            "Epoch 6/10\n",
            "211/211 [==============================] - 8s 36ms/step - loss: 0.0046 - accuracy: 0.9987 - val_loss: 0.0495 - val_accuracy: 0.9897\n",
            "Epoch 7/10\n",
            "211/211 [==============================] - 8s 36ms/step - loss: 0.0036 - accuracy: 0.9988 - val_loss: 0.0449 - val_accuracy: 0.9898\n",
            "Epoch 8/10\n",
            "211/211 [==============================] - 8s 36ms/step - loss: 0.0039 - accuracy: 0.9988 - val_loss: 0.0441 - val_accuracy: 0.9908\n",
            "Epoch 9/10\n",
            "211/211 [==============================] - 8s 36ms/step - loss: 0.0049 - accuracy: 0.9983 - val_loss: 0.0478 - val_accuracy: 0.9903\n",
            "Epoch 10/10\n",
            "211/211 [==============================] - 8s 36ms/step - loss: 0.0040 - accuracy: 0.9988 - val_loss: 0.0482 - val_accuracy: 0.9912\n"
          ],
          "name": "stdout"
        }
      ]
    },
    {
      "cell_type": "code",
      "metadata": {
        "id": "eFYJ--x0z_Xw",
        "colab_type": "code",
        "colab": {}
      },
      "source": [
        "#Training with data augmentation\n",
        "datagen = ImageDataGenerator(horizontal_flip=True,width_shift_range=0.2,height_shift_range=0.2)\n",
        "datagen.fit(X_train)"
      ],
      "execution_count": 0,
      "outputs": []
    },
    {
      "cell_type": "code",
      "metadata": {
        "id": "zPs4QaNK1c2a",
        "colab_type": "code",
        "outputId": "670f290a-dd70-4b57-a1e4-226d05d31cde",
        "colab": {
          "base_uri": "https://localhost:8080/",
          "height": 689
        }
      },
      "source": [
        "batch_size=256\n",
        "history = model.fit_generator(datagen.flow(X_train,Y_train,batch_size=batch_size),\n",
        "                              steps_per_epoch=math.ceil(X_train.shape[0]/batch_size),\n",
        "                              validation_data=(X_val,Y_val),\n",
        "                              epochs=20)\n",
        "training_history.append(history)"
      ],
      "execution_count": 29,
      "outputs": [
        {
          "output_type": "stream",
          "text": [
            "Epoch 1/20\n",
            "176/176 [==============================] - 19s 110ms/step - loss: 0.2879 - accuracy: 0.9010 - val_loss: 0.4833 - val_accuracy: 0.8462\n",
            "Epoch 2/20\n",
            "176/176 [==============================] - 19s 109ms/step - loss: 0.2812 - accuracy: 0.9034 - val_loss: 0.4983 - val_accuracy: 0.8444\n",
            "Epoch 3/20\n",
            "176/176 [==============================] - 19s 111ms/step - loss: 0.2803 - accuracy: 0.9027 - val_loss: 0.4652 - val_accuracy: 0.8544\n",
            "Epoch 4/20\n",
            "176/176 [==============================] - 19s 109ms/step - loss: 0.2650 - accuracy: 0.9072 - val_loss: 0.4275 - val_accuracy: 0.8676\n",
            "Epoch 5/20\n",
            "176/176 [==============================] - 19s 109ms/step - loss: 0.2626 - accuracy: 0.9096 - val_loss: 0.4877 - val_accuracy: 0.8532\n",
            "Epoch 6/20\n",
            "176/176 [==============================] - 19s 109ms/step - loss: 0.2503 - accuracy: 0.9136 - val_loss: 0.4815 - val_accuracy: 0.8526\n",
            "Epoch 7/20\n",
            "176/176 [==============================] - 19s 109ms/step - loss: 0.2360 - accuracy: 0.9175 - val_loss: 0.4708 - val_accuracy: 0.8658\n",
            "Epoch 8/20\n",
            "176/176 [==============================] - 19s 109ms/step - loss: 0.2373 - accuracy: 0.9182 - val_loss: 0.4505 - val_accuracy: 0.8612\n",
            "Epoch 9/20\n",
            "176/176 [==============================] - 19s 109ms/step - loss: 0.2320 - accuracy: 0.9210 - val_loss: 0.4497 - val_accuracy: 0.8678\n",
            "Epoch 10/20\n",
            "176/176 [==============================] - 19s 108ms/step - loss: 0.2128 - accuracy: 0.9269 - val_loss: 0.4443 - val_accuracy: 0.8654\n",
            "Epoch 11/20\n",
            "176/176 [==============================] - 19s 109ms/step - loss: 0.2114 - accuracy: 0.9263 - val_loss: 0.4378 - val_accuracy: 0.8748\n",
            "Epoch 12/20\n",
            "176/176 [==============================] - 19s 109ms/step - loss: 0.2062 - accuracy: 0.9277 - val_loss: 0.4437 - val_accuracy: 0.8676\n",
            "Epoch 13/20\n",
            "176/176 [==============================] - 19s 109ms/step - loss: 0.2010 - accuracy: 0.9300 - val_loss: 0.4601 - val_accuracy: 0.8686\n",
            "Epoch 14/20\n",
            "176/176 [==============================] - 19s 110ms/step - loss: 0.1967 - accuracy: 0.9317 - val_loss: 0.4742 - val_accuracy: 0.8672\n",
            "Epoch 15/20\n",
            "176/176 [==============================] - 19s 109ms/step - loss: 0.1965 - accuracy: 0.9318 - val_loss: 0.4175 - val_accuracy: 0.8714\n",
            "Epoch 16/20\n",
            "176/176 [==============================] - 19s 109ms/step - loss: 0.1846 - accuracy: 0.9352 - val_loss: 0.4676 - val_accuracy: 0.8606\n",
            "Epoch 17/20\n",
            "176/176 [==============================] - 19s 109ms/step - loss: 0.1825 - accuracy: 0.9365 - val_loss: 0.4467 - val_accuracy: 0.8696\n",
            "Epoch 18/20\n",
            "176/176 [==============================] - 19s 110ms/step - loss: 0.1777 - accuracy: 0.9380 - val_loss: 0.4486 - val_accuracy: 0.8710\n",
            "Epoch 19/20\n",
            "176/176 [==============================] - 19s 111ms/step - loss: 0.1741 - accuracy: 0.9396 - val_loss: 0.4585 - val_accuracy: 0.8690\n",
            "Epoch 20/20\n",
            "176/176 [==============================] - 19s 110ms/step - loss: 0.1719 - accuracy: 0.9398 - val_loss: 0.4432 - val_accuracy: 0.8768\n"
          ],
          "name": "stdout"
        }
      ]
    },
    {
      "cell_type": "code",
      "metadata": {
        "id": "OA5P8kWgPrU4",
        "colab_type": "code",
        "colab": {}
      },
      "source": [
        "#Saving model\n",
        "model.save('GoogleNetMNIST.h5')"
      ],
      "execution_count": 0,
      "outputs": []
    },
    {
      "cell_type": "code",
      "metadata": {
        "id": "PI-MVUnuu8zo",
        "colab_type": "code",
        "outputId": "5b97bd40-e46c-4d8e-f918-145cb7b1b841",
        "colab": {
          "base_uri": "https://localhost:8080/",
          "height": 50
        }
      },
      "source": [
        "model.evaluate(test_data,[test_labels,test_labels,test_labels],batch_size=256,verbose=1)"
      ],
      "execution_count": 9,
      "outputs": [
        {
          "output_type": "stream",
          "text": [
            "40/40 [==============================] - 1s 14ms/step - loss: 0.0367 - accuracy: 0.9916\n"
          ],
          "name": "stdout"
        },
        {
          "output_type": "execute_result",
          "data": {
            "text/plain": [
              "[0.03673188015818596, 0.991599977016449]"
            ]
          },
          "metadata": {
            "tags": []
          },
          "execution_count": 9
        }
      ]
    },
    {
      "cell_type": "code",
      "metadata": {
        "id": "aRVjpd5y2mpt",
        "colab_type": "code",
        "outputId": "317b0159-12e5-40a7-ed21-61b8971ba4af",
        "colab": {
          "base_uri": "https://localhost:8080/",
          "height": 34
        }
      },
      "source": [
        "len(train_accuracy)"
      ],
      "execution_count": 33,
      "outputs": [
        {
          "output_type": "execute_result",
          "data": {
            "text/plain": [
              "80"
            ]
          },
          "metadata": {
            "tags": []
          },
          "execution_count": 33
        }
      ]
    },
    {
      "cell_type": "code",
      "metadata": {
        "id": "8i1Dc-DSRAci",
        "colab_type": "code",
        "colab": {}
      },
      "source": [
        "#Plotting for GoogleNet\n",
        "import matplotlib.pyplot as plt\n",
        "import matplotlib\n",
        "\n",
        "train_accuracy = []\n",
        "validation_accuracy = []\n",
        "loss = []\n",
        "for i in training_history:\n",
        "  loss += i.history['loss']\n",
        "  train_accuracy += i.history['accuracy']\n",
        "  validation_accuracy += i.history['val_accuracy']"
      ],
      "execution_count": 0,
      "outputs": []
    },
    {
      "cell_type": "code",
      "metadata": {
        "id": "XbSbCDF4UhWU",
        "colab_type": "code",
        "outputId": "0f269709-8ddd-4f0c-f9cc-c580ddd15430",
        "colab": {
          "base_uri": "https://localhost:8080/",
          "height": 839
        }
      },
      "source": [
        "#Plot Training losses for output,aux1 output and aux2 output\n",
        "matplotlib.rcParams['figure.figsize'] = [16.0,14.0]\n",
        "epochs = range(1, len(train_accuracy) + 1)\n",
        "\n",
        "plt.plot(epochs, loss, 'b', label='Loss')\n",
        "plt.title('Training loss')\n",
        "plt.xlabel('Epochs')\n",
        "plt.ylabel('Loss')\n",
        "plt.legend()\n",
        "\n",
        "plt.savefig('VGGMNISTLoss.png')\n",
        "plt.show()"
      ],
      "execution_count": 12,
      "outputs": [
        {
          "output_type": "display_data",
          "data": {
            "image/png": "[encoded data removed]",
            "text/plain": [
              "<Figure size 1152x1008 with 1 Axes>"
            ]
          },
          "metadata": {
            "tags": [],
            "needs_background": "light"
          }
        }
      ]
    },
    {
      "cell_type": "code",
      "metadata": {
        "id": "z3NBoT_xTDQP",
        "colab_type": "code",
        "outputId": "27a9a52c-9c2e-4bab-ddc0-c8ca4536761e",
        "colab": {
          "base_uri": "https://localhost:8080/",
          "height": 839
        }
      },
      "source": [
        "#Plot train and validation accuracy\n",
        "matplotlib.rcParams['figure.figsize'] = [16.0,14.0]\n",
        "epochs = range(1, len(train_accuracy) + 1)\n",
        "\n",
        "plt.plot(epochs, train_accuracy, 'b', label='Training acc')\n",
        "plt.plot(epochs, validation_accuracy, 'r', label='Validation acc')\n",
        "plt.title('Training and validation accuracy')\n",
        "plt.xlabel('Epochs')\n",
        "plt.ylabel('Accuracy')\n",
        "plt.legend()\n",
        "\n",
        "plt.savefig('VGGMNISTAccuracy.png')\n",
        "plt.show()"
      ],
      "execution_count": 13,
      "outputs": [
        {
          "output_type": "display_data",
          "data": {
            "image/png": "[encoded data removed]",
            "text/plain": [
              "<Figure size 1152x1008 with 1 Axes>"
            ]
          },
          "metadata": {
            "tags": [],
            "needs_background": "light"
          }
        }
      ]
    },
    {
      "cell_type": "markdown",
      "metadata": {
        "id": "G4DhOllr7RFO",
        "colab_type": "text"
      },
      "source": [
        ""
      ]
    }
  ]
}